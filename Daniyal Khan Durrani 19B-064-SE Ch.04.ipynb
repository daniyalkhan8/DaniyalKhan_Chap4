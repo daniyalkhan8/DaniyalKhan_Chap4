{
 "cells": [
  {
   "cell_type": "markdown",
   "metadata": {},
   "source": [
    "# Ex 4.1"
   ]
  },
  {
   "cell_type": "code",
   "execution_count": 2,
   "metadata": {},
   "outputs": [
    {
     "name": "stdout",
     "output_type": "stream",
     "text": [
      "234\n",
      "78\n",
      "1234567\n",
      "0123\n",
      "789\n"
     ]
    }
   ],
   "source": [
    "s='0123456789'\n",
    "\n",
    "# A\n",
    "s1=s[2:5]\n",
    "print(s1)\n",
    "\n",
    "# B\n",
    "s2=s[7:9]\n",
    "print(s2)\n",
    "\n",
    "# C\n",
    "s3=s[1:8]\n",
    "print(s3)\n",
    "\n",
    "# D\n",
    "s4=s[0:4]\n",
    "print(s4)\n",
    "\n",
    "# E\n",
    "s5=s[7:]\n",
    "print(s5)"
   ]
  },
  {
   "cell_type": "markdown",
   "metadata": {},
   "source": [
    "# Ex 4.2"
   ]
  },
  {
   "cell_type": "code",
   "execution_count": 9,
   "metadata": {},
   "outputs": [
    {
     "name": "stdout",
     "output_type": "stream",
     "text": [
      "2\n",
      "13\n",
      "It will be a cloudy day today\n"
     ]
    }
   ],
   "source": [
    "forecast='It will be a sunny day today'\n",
    "# A\n",
    "count=forecast.count('day')\n",
    "print(count)\n",
    "\n",
    "# B\n",
    "weather=forecast.find('sunny')\n",
    "print(weather)\n",
    "\n",
    "# C\n",
    "change=forecast.replace('sunny','cloudy')\n",
    "print(change)"
   ]
  },
  {
   "cell_type": "markdown",
   "metadata": {},
   "source": [
    "# Ex 4.3"
   ]
  },
  {
   "cell_type": "code",
   "execution_count": 10,
   "metadata": {},
   "outputs": [
    {
     "name": "stdout",
     "output_type": "stream",
     "text": [
      "Smith\tJhon\tPaul\n"
     ]
    }
   ],
   "source": [
    "last='Smith'\n",
    "first='Jhon'\n",
    "middle='Paul'\n",
    "print(last,first,middle,sep='\\t')"
   ]
  },
  {
   "cell_type": "markdown",
   "metadata": {},
   "source": [
    "# Ex 4.4"
   ]
  },
  {
   "cell_type": "code",
   "execution_count": 13,
   "metadata": {},
   "outputs": [
    {
     "name": "stdout",
     "output_type": "stream",
     "text": [
      "Enter the number:16\n",
      "2 3 4 6 8 9 10 12 14 15 16 "
     ]
    }
   ],
   "source": [
    "n=int(input(\"Enter the number:\"))\n",
    "def even():\n",
    "    for i in range(2,n+1):\n",
    "        if (i%2==0 or i%3==0):\n",
    "            print(i,end=' ')\n",
    "even()"
   ]
  },
  {
   "cell_type": "markdown",
   "metadata": {},
   "source": [
    "# Ex 4.5"
   ]
  },
  {
   "cell_type": "code",
   "execution_count": 19,
   "metadata": {},
   "outputs": [
    {
     "name": "stdout",
     "output_type": "stream",
     "text": [
      "Jhon Doe\n",
      "123 Main Street\n",
      "AnyCity, AS 09876\n"
     ]
    }
   ],
   "source": [
    "first='Jhon'\n",
    "last='Doe'\n",
    "street='Main Street'\n",
    "number=123\n",
    "city='AnyCity'\n",
    "state='AS'\n",
    "zipCode='09876'\n",
    "print('{0} {1}\\n{2} {3}\\n{4}, {5} {6}'.format(first,last,number,street,city,state,zipCode))"
   ]
  },
  {
   "cell_type": "markdown",
   "metadata": {},
   "source": [
    "# Ex 4.6"
   ]
  },
  {
   "cell_type": "code",
   "execution_count": 24,
   "metadata": {},
   "outputs": [
    {
     "name": "stdout",
     "output_type": "stream",
     "text": [
      "Last      First     Class     Average Grade\n",
      "DeMoines  Jim       Sophomore     3.45\n",
      "Pierre    Sophie    Sophomore     4.00\n",
      "Columbus  Maria     Senior        2.50\n",
      "Phoenix   River     Junior        2.45\n",
      "Olympia   Edgar     Junior        3.99\n"
     ]
    }
   ],
   "source": [
    "def roaster():\n",
    "    students=[['DeMoines','Jim','Sophomore',3.45],['Pierre','Sophie','Sophomore',4.0],['Columbus','Maria','Senior',2.5],['Phoenix','River','Junior',2.45],['Olympia','Edgar','Junior',3.99]]\n",
    "    print('{:10}{:10}{:10}{:8}'.format('Last','First','Class','Average Grade'))\n",
    "    for student in students:\n",
    "        print('{:10}{:10}{:10}{:8.2f}'.format(student[0],student[1],student[2],student[3]))\n",
    "roaster()"
   ]
  },
  {
   "cell_type": "markdown",
   "metadata": {},
   "source": [
    "# Ex 4.7"
   ]
  },
  {
   "cell_type": "code",
   "execution_count": 7,
   "metadata": {},
   "outputs": [
    {
     "name": "stdout",
     "output_type": "stream",
     "text": [
      "Sunday, December 15 2019\n",
      "\n",
      "\n",
      "01:32 AM Central Daylight Time on 12/15/2019\n",
      "\n",
      "\n",
      "I will meet you on Sun December 15 at 01:32 AM\n"
     ]
    }
   ],
   "source": [
    "# A\n",
    "import time\n",
    "t=time.localtime()\n",
    "print(time.strftime('%A, %B %d %Y',t))\n",
    "\n",
    "print(\"\\n\")\n",
    "\n",
    "# B\n",
    "import time\n",
    "t=time.localtime()\n",
    "print(time.strftime('%I:%M %p Central Daylight Time on %m/%d/%Y',t))\n",
    "\n",
    "print(\"\\n\")\n",
    "\n",
    "# C\n",
    "import time\n",
    "t=time.localtime()\n",
    "print(time.strftime('I will meet you on %a %B %d at %I:%M %p',t))"
   ]
  },
  {
   "cell_type": "markdown",
   "metadata": {},
   "source": [
    "# Ex 4.8"
   ]
  },
  {
   "cell_type": "code",
   "execution_count": 88,
   "metadata": {},
   "outputs": [
    {
     "name": "stdout",
     "output_type": "stream",
     "text": [
      "4\n"
     ]
    }
   ],
   "source": [
    "def stringCount(filename,target):\n",
    "    filename='Student.txt'\n",
    "    target='line'\n",
    "    infile=open(filename,'r')\n",
    "    content=infile.read()\n",
    "    infile.close()\n",
    "    return content.count(target)\n",
    "print(stringCount(filename,target))"
   ]
  },
  {
   "cell_type": "markdown",
   "metadata": {},
   "source": [
    "# Ex 4.9"
   ]
  },
  {
   "cell_type": "code",
   "execution_count": 89,
   "metadata": {},
   "outputs": [
    {
     "name": "stdout",
     "output_type": "stream",
     "text": [
      "['the', '3', 'lines', 'in', 'this', 'file', 'end', 'with', 'the', 'new', 'line', 'character', 'there', 'is', 'a', 'blank', 'line', 'above', 'this', 'line']\n"
     ]
    }
   ],
   "source": [
    "def word(filename):\n",
    "    filename='Student.txt'\n",
    "    infile=open(filename,'r')\n",
    "    content=infile.read()\n",
    "    infile.close()\n",
    "    table=str.maketrans('!,.?:;',6*' ')\n",
    "    content=content.translate(table)\n",
    "    content=content.lower()\n",
    "    return content.split()\n",
    "print(word(filename))"
   ]
  },
  {
   "cell_type": "markdown",
   "metadata": {},
   "source": [
    "# Ex 4.10"
   ]
  },
  {
   "cell_type": "code",
   "execution_count": 94,
   "metadata": {},
   "outputs": [
    {
     "name": "stdout",
     "output_type": "stream",
     "text": [
      "The 3 lines in this file end with the new line character. \n",
      " There is a blank line above this line.\n",
      " Returns the number of line in filename.\n",
      " "
     ]
    }
   ],
   "source": [
    "def myGrep(filename,target):\n",
    "    filename='Student.txt'\n",
    "    target='line'\n",
    "    infile=open(filename,'r')\n",
    "    content=infile.readlines()\n",
    "    for line in content:\n",
    "        if target in line:\n",
    "            print(line,end=' ')\n",
    "myGrep(filename,target)"
   ]
  },
  {
   "cell_type": "markdown",
   "metadata": {},
   "source": [
    "# Ex 4.12"
   ]
  },
  {
   "cell_type": "code",
   "execution_count": 14,
   "metadata": {},
   "outputs": [
    {
     "name": "stdout",
     "output_type": "stream",
     "text": [
      "bcd  abc  defghijklmnoprstuvwx  wxy  wxyz\n"
     ]
    }
   ],
   "source": [
    "s='abcdefghijklmnoprstuvwxyz'\n",
    "S=s[1:4]\n",
    "S1=s[:3]\n",
    "S2=s[3:-2]\n",
    "S3=s[-4:-1]\n",
    "S4=s[-4:]\n",
    "print(S,S1,S2,S3,S4,sep='  ')"
   ]
  },
  {
   "cell_type": "markdown",
   "metadata": {},
   "source": [
    "# Ex 4.13"
   ]
  },
  {
   "cell_type": "code",
   "execution_count": 20,
   "metadata": {},
   "outputs": [
    {
     "name": "stdout",
     "output_type": "stream",
     "text": [
      "bc\n",
      "\n",
      "\n",
      "abcdefghijklmn\n",
      "\n",
      "\n",
      "oprstuvwxyz\n",
      "\n",
      "\n",
      "bcdefghijklmnoprstuvw\n"
     ]
    }
   ],
   "source": [
    "s='abcdefghijklmnoprstuvwxyz'\n",
    "# A\n",
    "print(s[1:3])\n",
    "\n",
    "print('\\n')\n",
    "\n",
    "# B\n",
    "print(s[0:14])\n",
    "\n",
    "print('\\n')\n",
    "\n",
    "# C\n",
    "print(s[14:])\n",
    "\n",
    "print('\\n')\n",
    "\n",
    "# D\n",
    "print(s[1:-3])"
   ]
  },
  {
   "cell_type": "markdown",
   "metadata": {},
   "source": [
    "# Ex 4.14"
   ]
  },
  {
   "cell_type": "code",
   "execution_count": 32,
   "metadata": {},
   "outputs": [
    {
     "name": "stdout",
     "output_type": "stream",
     "text": [
      "128.0.0.1\n",
      "\n",
      "\n",
      "12/Feb/2011:10:31:08 -6000\n"
     ]
    }
   ],
   "source": [
    "# A\n",
    "log='128.0.0.1 - - [12/Feb/2011:10:31:08 -6000] \"GET /docs/test.txt HTTP/1.0\"'\n",
    "\n",
    "# B\n",
    "address=log.split()[0]\n",
    "print(address)\n",
    "\n",
    "print('\\n')\n",
    "\n",
    "# C\n",
    "date=log[log.find(\"[\")+1:log.find(\"]\")]\n",
    "print(date)"
   ]
  },
  {
   "cell_type": "markdown",
   "metadata": {},
   "source": [
    "# Ex 4.15"
   ]
  },
  {
   "cell_type": "code",
   "execution_count": 74,
   "metadata": {},
   "outputs": [
    {
     "name": "stdout",
     "output_type": "stream",
     "text": [
      "['10', '20', '30', '40', '50', '60']\n",
      "\n",
      "\n",
      "['10', '20', '30', '40', '50', '60']\n",
      "\n",
      "\n",
      "['10', '20', '30', '40', '50', '60']\n",
      "\n",
      "\n",
      "['10', '20', '30', '40', '50', '60']\n"
     ]
    }
   ],
   "source": [
    "s='10 20 30 40 50 60'\n",
    "# A\n",
    "s.split()\n",
    "# A\n",
    "print(s.split())\n",
    "\n",
    "print(\"\\n\")\n",
    "\n",
    "# B\n",
    "s='10,20,30,40,50,60'\n",
    "print(s.split(sep=\",\"))\n",
    "\n",
    "print(\"\\n\")\n",
    "\n",
    "# C\n",
    "s='10%20%30%40%50%60'\n",
    "S=s.replace('%',',')\n",
    "print(S.split(sep=\",\"))\n",
    "\n",
    "print(\"\\n\")\n",
    "\n",
    "# D\n",
    "s='10-20-30-40-50-60'\n",
    "S=s.replace('-',',')\n",
    "print(S.split(sep=\",\"))"
   ]
  },
  {
   "cell_type": "markdown",
   "metadata": {},
   "source": [
    "# Ex 4.16"
   ]
  },
  {
   "cell_type": "code",
   "execution_count": 84,
   "metadata": {},
   "outputs": [
    {
     "name": "stdout",
     "output_type": "stream",
     "text": [
      "Enter the first word:bass\n",
      "Enter the second word:network\n",
      "Enter the third word:evolution\n",
      "True\n"
     ]
    }
   ],
   "source": [
    "firstWord=input('Enter the first word:')\n",
    "secondWord=input('Enter the second word:')\n",
    "thirdWord=input('Enter the third word:')\n",
    "if len(firstWord) < len(secondWord) and len(secondWord) < len(thirdWord):\n",
    "    print(True)"
   ]
  },
  {
   "cell_type": "markdown",
   "metadata": {},
   "source": [
    "# Ex 4.17"
   ]
  },
  {
   "cell_type": "code",
   "execution_count": 86,
   "metadata": {},
   "outputs": [
    {
     "name": "stdout",
     "output_type": "stream",
     "text": [
      "47\n",
      "\n",
      "\n",
      "2\n",
      "\n",
      "\n",
      "The xxxxxxx of this message is that it is xxxxxxx\n"
     ]
    }
   ],
   "source": [
    "# A\n",
    "message='The secret of this message is that it is secret'\n",
    "\n",
    "# B\n",
    "length=len(message)\n",
    "print(length)\n",
    "\n",
    "print(\"\\n\")\n",
    "\n",
    "# C\n",
    "count=message.count('secret')\n",
    "print(count)\n",
    "\n",
    "print(\"\\n\")\n",
    "\n",
    "# D\n",
    "censored=message.replace('secret','xxxxxxx')\n",
    "print(censored)"
   ]
  },
  {
   "cell_type": "markdown",
   "metadata": {},
   "source": [
    "# Ex 4.18"
   ]
  },
  {
   "cell_type": "code",
   "execution_count": 120,
   "metadata": {},
   "outputs": [
    {
     "name": "stdout",
     "output_type": "stream",
     "text": [
      "It was the best of times  it was the worst of times  it  was the age of wisdom  it was the age of foolishness  it was the  epoch of belief  it was the epoch of incredulity  it was      \n",
      "\n",
      "\n",
      "It was the best of times  it was the worst of times  it  was the age of wisdom  it was the age of foolishness  it was the  epoch of belief  it was the epoch of incredulity  it was\n",
      "\n",
      "\n",
      "it was the best of times  it was the worst of times  it  was the age of wisdom  it was the age of foolishness  it was the  epoch of belief  it was the epoch of incredulity  it was\n",
      "\n",
      "\n",
      "6\n",
      "\n",
      "\n",
      "it is the best of times  it is the worst of times  it  is the age of wisdom  it is the age of foolishness  it is the  epoch of belief  it is the epoch of incredulity  it is\n",
      "\n",
      "\n",
      "['it', 'is', 'the', 'best', 'of', 'times', 'it', 'is', 'the', 'worst', 'of', 'times', 'it', 'is', 'the', 'age', 'of', 'wisdom', 'it', 'is', 'the', 'age', 'of', 'foolishness', 'it', 'is', 'the', 'epoch', 'of', 'belief', 'it', 'is', 'the', 'epoch', 'of', 'incredulity', 'it', 'is']\n"
     ]
    }
   ],
   "source": [
    "# A\n",
    "s='''It was the best of times, it was the worst of times; it \n",
    "was the age of wisdom, it was the age of foolishness; it was the \n",
    "epoch of belief, it was the epoch of incredulity; it was .....'''\n",
    "S=str.maketrans(',;.:\\n',5*' ')\n",
    "newS=s.translate(S)\n",
    "print(newS)\n",
    "\n",
    "print(\"\\n\")\n",
    "\n",
    "# B\n",
    "newS=newS.strip()\n",
    "print(newS)\n",
    "\n",
    "print(\"\\n\")\n",
    "\n",
    "# C\n",
    "newS=newS.lower()\n",
    "print(newS)\n",
    "\n",
    "print(\"\\n\")\n",
    "\n",
    "# D\n",
    "count=newS.count('it was')\n",
    "print(count)\n",
    "\n",
    "print(\"\\n\")\n",
    "\n",
    "# E\n",
    "newS=newS.replace('was','is')\n",
    "print(newS)\n",
    "\n",
    "print(\"\\n\")\n",
    "\n",
    "# F\n",
    "listS=newS.split()\n",
    "print(listS)"
   ]
  },
  {
   "cell_type": "markdown",
   "metadata": {},
   "source": [
    "# Ex 4.19"
   ]
  },
  {
   "cell_type": "code",
   "execution_count": 125,
   "metadata": {},
   "outputs": [
    {
     "name": "stdout",
     "output_type": "stream",
     "text": [
      "Sigel, Marlena Mae\n",
      "\n",
      "\n",
      "Sigel, Marlena M.\n",
      "\n",
      "\n",
      "Marlena M. Sigel\n",
      "\n",
      "\n",
      "M. M. Sigel\n",
      "\n",
      "\n",
      "Sigel, M.\n"
     ]
    }
   ],
   "source": [
    "first='Marlena'\n",
    "last='Sigel'\n",
    "middle='Mae'\n",
    "\n",
    "# A\n",
    "print('{}, {} {}'.format(last,first,middle))\n",
    "\n",
    "print(\"\\n\")\n",
    "\n",
    "# B\n",
    "print('{}, {} {[0]}.'.format(last,first,middle))\n",
    "\n",
    "print(\"\\n\")\n",
    "\n",
    "# C\n",
    "print('{} {[0]}. {}'.format(first,middle,last))\n",
    "\n",
    "print(\"\\n\")\n",
    "\n",
    "# D\n",
    "print('{[0]}. {[0]}. {}'.format(first,middle,last))\n",
    "\n",
    "print(\"\\n\")\n",
    "\n",
    "# E\n",
    "print('{}, {[0]}.'.format(last,first))"
   ]
  },
  {
   "cell_type": "markdown",
   "metadata": {},
   "source": [
    "# Ex 4.20"
   ]
  },
  {
   "cell_type": "code",
   "execution_count": 128,
   "metadata": {},
   "outputs": [
    {
     "name": "stdout",
     "output_type": "stream",
     "text": [
      "From: tim@abc.com\n",
      "To: tom@xyz.org\n",
      "Subject: Hello!\n"
     ]
    }
   ],
   "source": [
    "sender='tim@abc.com'\n",
    "recipitent='tom@xyz.org'\n",
    "subject='Hello!'\n",
    "print('From: {}\\nTo: {}\\nSubject: {}'.format(sender,recipitent,subject))"
   ]
  },
  {
   "cell_type": "markdown",
   "metadata": {},
   "source": [
    "# Ex 4.21"
   ]
  },
  {
   "cell_type": "code",
   "execution_count": 150,
   "metadata": {},
   "outputs": [
    {
     "name": "stdout",
     "output_type": "stream",
     "text": [
      "pi = 3.1, e = 2.7\n",
      "\n",
      "\n",
      "pi = 3.14, e = 2.72\n",
      "\n",
      "\n",
      "pi = 3.141593e+00, e = 2.718282e+00\n",
      "\n",
      "\n",
      "pi = 3.14159, e = 2.71828\n"
     ]
    }
   ],
   "source": [
    "import math\n",
    "pi,e=math.pi,math.e\n",
    "\n",
    "# A\n",
    "print('pi = {0:2.1f}, e = {1:2.1f}'.format(pi,e))\n",
    "\n",
    "print(\"\\n\")\n",
    "\n",
    "# B\n",
    "print('pi = {0:2.2f}, e = {1:2.2f}'.format(pi,e))\n",
    "\n",
    "print(\"\\n\")\n",
    "\n",
    "# C\n",
    "print('pi = {0:e}, e = {1:e}'.format(pi,e))\n",
    "\n",
    "print(\"\\n\")\n",
    "\n",
    "# D\n",
    "print('pi = {0:2.5f}, e = {1:2.5f}'.format(pi,e))"
   ]
  },
  {
   "cell_type": "markdown",
   "metadata": {},
   "source": [
    "# Ex 4.22"
   ]
  },
  {
   "cell_type": "code",
   "execution_count": 159,
   "metadata": {},
   "outputs": [
    {
     "name": "stdout",
     "output_type": "stream",
     "text": [
      "Enter the month num: 4\n",
      "Apr\n"
     ]
    }
   ],
   "source": [
    "n=int(input(\"Enter the month num: \"))\n",
    "def month(n):\n",
    "    month='JanFebMarAprMayJunJulAugSepOctNovDec'\n",
    "    month=month[(n-1)*3:n*3]\n",
    "    print(month)\n",
    "month(n)"
   ]
  },
  {
   "cell_type": "markdown",
   "metadata": {},
   "source": [
    "# Ex 4.23"
   ]
  },
  {
   "cell_type": "code",
   "execution_count": 165,
   "metadata": {},
   "outputs": [
    {
     "name": "stdout",
     "output_type": "stream",
     "text": [
      "Enter the sentence: Hello how are you\n",
      "4.0\n"
     ]
    }
   ],
   "source": [
    "sentence=input(\"Enter the sentence: \")\n",
    "def average(sentence):\n",
    "    chars=sentence.split()\n",
    "    avg_len_word=sum(len(chars) for char in chars)/len(chars)\n",
    "    return avg_len_word\n",
    "print(average(sentence))"
   ]
  },
  {
   "cell_type": "markdown",
   "metadata": {},
   "source": [
    "# Ex 4.24"
   ]
  },
  {
   "cell_type": "code",
   "execution_count": 175,
   "metadata": {},
   "outputs": [
    {
     "name": "stdout",
     "output_type": "stream",
     "text": [
      "How do you spell winner?\n",
      "I know, I know!\n",
      "H U S K I E S !\n",
      "And that's how you spell winner!\n",
      "Go Huskies!\n"
     ]
    }
   ],
   "source": [
    "name='Huskies'\n",
    "def cheer(name):\n",
    "    print(\"How do you spell winner?\")\n",
    "    print(\"I know, I know!\")\n",
    "    for chars in name:\n",
    "        Chars=chars.upper()\n",
    "        print(Chars,end=' ')\n",
    "    print(\"!\")\n",
    "    print(\"And that's how you spell winner!\")\n",
    "    print(\"Go\",name+'!')\n",
    "cheer(name)"
   ]
  },
  {
   "cell_type": "markdown",
   "metadata": {},
   "source": [
    "# Ex 4.25"
   ]
  },
  {
   "cell_type": "code",
   "execution_count": 191,
   "metadata": {},
   "outputs": [
    {
     "name": "stdout",
     "output_type": "stream",
     "text": [
      "vowels a,e,i,o, and u appear 1, 3, 0, 1 and 1 times in this string\n"
     ]
    }
   ],
   "source": [
    "string='Le Tour de France'\n",
    "def vowelCount(string):\n",
    "    a=string.count('a')\n",
    "    e=string.count('e')\n",
    "    i=string.count('i')\n",
    "    o=string.count('o')\n",
    "    u=string.count('u')\n",
    "    print('vowels a,e,i,o, and u appear {}, {}, {}, {} and {} times in this string'.format(a,e,i,o,u))\n",
    "vowelCount(string)"
   ]
  },
  {
   "cell_type": "markdown",
   "metadata": {},
   "source": [
    "# Ex 4.26"
   ]
  },
  {
   "cell_type": "code",
   "execution_count": 194,
   "metadata": {},
   "outputs": [
    {
     "name": "stdout",
     "output_type": "stream",
     "text": [
      "I will tell you my XXXXXXXX. But first, I have to explain why it is a XXXXXXXX.\n",
      "\n",
      "And that is all I will tell you about my XXXXXXXX. \n"
     ]
    }
   ],
   "source": [
    "filename='Student.txt'\n",
    "def crypto(filename):\n",
    "    infile=open(filename,'r')\n",
    "    content=infile.read()\n",
    "    infile.close()\n",
    "    Crypt=content.replace('secret','XXXXXXXX')\n",
    "    return Crypt\n",
    "print(crypto(filename))"
   ]
  },
  {
   "cell_type": "markdown",
   "metadata": {},
   "source": [
    "# Ex 4.27"
   ]
  },
  {
   "cell_type": "code",
   "execution_count": 198,
   "metadata": {},
   "outputs": [],
   "source": [
    "file1='Student.txt'\n",
    "file2='Students.txt'\n",
    "def fCopy(file1,file2):\n",
    "    infile=open(file1,'r')\n",
    "    content=infile.read()\n",
    "    infile.close()\n",
    "    outfile=open(file2,'w') # Opened file on write mode so that content can be copied to it\n",
    "    copy=outfile.write(content) # write() command to copy content of first file to second file \n",
    "    outfile.close()\n",
    "fCopy(file1,file2)"
   ]
  },
  {
   "cell_type": "markdown",
   "metadata": {},
   "source": [
    "# Ex 4.28"
   ]
  },
  {
   "cell_type": "code",
   "execution_count": 3,
   "metadata": {},
   "outputs": [
    {
     "name": "stdout",
     "output_type": "stream",
     "text": [
      "322\n"
     ]
    }
   ],
   "source": [
    "def links(filename):\n",
    "    infile=open(filename,'r')\n",
    "    content=infile.read()\n",
    "    hyperlinks=content.count('</a>')\n",
    "    print(hyperlinks)\n",
    "links('html_editors.asp')"
   ]
  },
  {
   "cell_type": "markdown",
   "metadata": {},
   "source": [
    "# Ex 4.29"
   ]
  },
  {
   "cell_type": "code",
   "execution_count": 218,
   "metadata": {},
   "outputs": [
    {
     "name": "stdout",
     "output_type": "stream",
     "text": [
      "The lines:  2\n",
      "The words:  28\n",
      "The characters:  124\n"
     ]
    }
   ],
   "source": [
    "file='Student.txt'\n",
    "def stats(file):\n",
    "    infile=open(file,'r')\n",
    "    content=infile.read()\n",
    "    infile.close()\n",
    "    lines=content.count(\"\\n\")+1\n",
    "    word=len(content.replace(\"\\n\",\" \").split())\n",
    "    chars=len(content)-lines+1\n",
    "    print(\"The lines: \",lines)\n",
    "    print(\"The words: \",word)\n",
    "    print(\"The characters: \",chars)\n",
    "stats(file)"
   ]
  },
  {
   "cell_type": "markdown",
   "metadata": {},
   "source": [
    "# Ex 4.30"
   ]
  },
  {
   "cell_type": "code",
   "execution_count": 222,
   "metadata": {},
   "outputs": [
    {
     "name": "stdout",
     "output_type": "stream",
     "text": [
      "9 Student got A\n",
      "4 Student got A-\n",
      "3 Student got B+\n",
      "6 Student got B\n",
      "3 Student got B-\n",
      "2 Student got C\n",
      "4 Student got C-\n",
      "6 Student got F\n"
     ]
    }
   ],
   "source": [
    "file='Student.txt'\n",
    "def distribution(file):\n",
    "    infile=open(file,'r')\n",
    "    content=infile.read()\n",
    "    grades=content.split()\n",
    "    dict={}\n",
    "    for grade in grades:\n",
    "        if grade in dict:\n",
    "            dict[grade]+=1\n",
    "        else:\n",
    "            dict[grade]=1\n",
    "    for grade in dict:\n",
    "        print(dict[grade],\"Student got\",grade)\n",
    "distribution(file)"
   ]
  },
  {
   "cell_type": "markdown",
   "metadata": {},
   "source": [
    "# Ex 4.31"
   ]
  },
  {
   "cell_type": "code",
   "execution_count": 223,
   "metadata": {},
   "outputs": [
    {
     "name": "stdout",
     "output_type": "stream",
     "text": [
      "True\n"
     ]
    }
   ],
   "source": [
    "file='Students.txt'\n",
    "def duplicate(file):\n",
    "    infile=open(file,'r')\n",
    "    content=infile.read()\n",
    "    infile.close()\n",
    "    table=str.maketrans('?.,:;!',6*' ')\n",
    "    content=content.translate(table)\n",
    "    word=content.split()\n",
    "    text=set(content)\n",
    "    if text==word:\n",
    "        return False\n",
    "    else:\n",
    "        return True\n",
    "print(duplicate(file))"
   ]
  },
  {
   "cell_type": "markdown",
   "metadata": {},
   "source": [
    "# Ex 4.32"
   ]
  },
  {
   "cell_type": "code",
   "execution_count": 3,
   "metadata": {},
   "outputs": [],
   "source": [
    "def censor(file):\n",
    "    infile=open(file,'r')\n",
    "    content=infile.read()\n",
    "    infile.close()\n",
    "    table=str.maketrans('?.,:;!',6*' ')\n",
    "    content2=content.translate(table)\n",
    "    words=content2.split()\n",
    "    for word in words:\n",
    "        if len(word)==4:\n",
    "            content=content.replace(word,'XXXX')\n",
    "    outfile=open('Censored.txt','w')\n",
    "    outfile.write(content)\n",
    "    outfile.close()\n",
    "censor('Students.txt')"
   ]
  }
 ],
 "metadata": {
  "kernelspec": {
   "display_name": "Python 3",
   "language": "python",
   "name": "python3"
  },
  "language_info": {
   "codemirror_mode": {
    "name": "ipython",
    "version": 3
   },
   "file_extension": ".py",
   "mimetype": "text/x-python",
   "name": "python",
   "nbconvert_exporter": "python",
   "pygments_lexer": "ipython3",
   "version": "3.7.4"
  }
 },
 "nbformat": 4,
 "nbformat_minor": 2
}
